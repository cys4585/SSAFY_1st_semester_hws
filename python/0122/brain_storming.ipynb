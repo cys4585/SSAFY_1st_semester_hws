{
 "cells": [
  {
   "cell_type": "markdown",
   "metadata": {},
   "source": [
    "# 뇌풀기\n",
    "- 여러분들이 각자 어떤 스타일(혹은 빌드업)로 코드를 작성하고 있는지 제가 한번씩 둘러보고자 합니다. \n",
    "- 오프라인이면 매일 이렇게 다 봐드리는데! (오프라인에 부족하지 않게 봐드리고 싶어요)\n",
    "- 이번 기회를 통해서 여러분 한명한명 더 잘 케어해 드릴 수 있도록 하고자 합니다.\n",
    "- 프로젝트를 진행해야하니 간단하게 20분만 드릴거고 다 푸신 분들은 업로드 후 프로젝트 진행해주세요!"
   ]
  },
  {
   "cell_type": "markdown",
   "metadata": {},
   "source": [
    "## N 까지의 총합\n",
    "\n",
    "정수 num을 기준으로, 1~num까지의 총 합을 구하는 함수를\n",
    "\n",
    "1. `for` 문을 사용하여\n",
    "2. `while`문을 사용하여\n",
    "\n",
    "작성하시오."
   ]
  },
  {
   "cell_type": "code",
   "execution_count": 1,
   "metadata": {},
   "outputs": [],
   "source": [
    "# for문만 사용하여 풀기\n",
    "def sum_with_for(num):\n",
    "    result = 0\n",
    "    for n in range(1, num+1):\n",
    "        result += n\n",
    "    return result"
   ]
  },
  {
   "cell_type": "code",
   "execution_count": 2,
   "metadata": {},
   "outputs": [],
   "source": [
    "# while문만 사용하여 풀기\n",
    "def sum_with_while(num):\n",
    "    result = 0\n",
    "    n = 1\n",
    "    while n <= num:\n",
    "        result += n\n",
    "        n += 1\n",
    "    return result"
   ]
  },
  {
   "cell_type": "code",
   "execution_count": 3,
   "metadata": {},
   "outputs": [
    {
     "name": "stdout",
     "output_type": "stream",
     "text": [
      "10\n",
      "10\n",
      "15\n",
      "15\n"
     ]
    }
   ],
   "source": [
    "# 아래 코드는 바꾸지 않습니다.\n",
    "print(sum_with_for(4))    # 10\n",
    "print(sum_with_while(4))  # 10\n",
    "print(sum_with_for(5))    # 15\n",
    "print(sum_with_while(5))  # 15"
   ]
  },
  {
   "cell_type": "markdown",
   "metadata": {},
   "source": [
    "## 리스트의 총곱\n",
    "\n",
    "사용자가 입력한 정수 num을 기준으로, 1~num으로 이루어진 리스트의 총 곱을 구하는 함수를\n",
    "\n",
    "1. `for`문을 사용하여\n",
    "2. `while`문을 사용하여\n",
    "\n",
    "작성하시오."
   ]
  },
  {
   "cell_type": "code",
   "execution_count": 4,
   "metadata": {},
   "outputs": [],
   "source": [
    "# for문만 사용하여 풀기\n",
    "def mul_with_for(numbers):\n",
    "    result = 1\n",
    "    for n in numbers:\n",
    "        result *= n\n",
    "    return result"
   ]
  },
  {
   "cell_type": "code",
   "execution_count": null,
   "metadata": {},
   "outputs": [],
   "source": [
    "# while문만 사용하여 풀기\n",
    "def mul_with_while(numbers):\n",
    "    result = 1\n",
    "    i = 0\n",
    "    while i < len(numbers):\n",
    "        result "
   ]
  },
  {
   "cell_type": "code",
   "execution_count": null,
   "metadata": {},
   "outputs": [],
   "source": [
    "# 아래 코드는 바꾸지 않습니다.\n",
    "num = int(input('정수를 입력하세요'))\n",
    "numbers = list(range(1, num+1))\n",
    "\n",
    "# 아래 두코드 모두 in 4 => out 24 / in 5 => out 120 를 만족해야 합니다.\n",
    "print(mul_with_for(numbers))\n",
    "print(mul_with_while(numbers))"
   ]
  },
  {
   "cell_type": "code",
   "execution_count": null,
   "metadata": {},
   "outputs": [],
   "source": []
  }
 ],
 "metadata": {
  "kernelspec": {
   "display_name": "Python 3",
   "language": "python",
   "name": "python3"
  },
  "language_info": {
   "codemirror_mode": {
    "name": "ipython",
    "version": 3
   },
   "file_extension": ".py",
   "mimetype": "text/x-python",
   "name": "python",
   "nbconvert_exporter": "python",
   "pygments_lexer": "ipython3",
   "version": "3.8.7"
  },
  "toc": {
   "base_numbering": 1,
   "nav_menu": {},
   "number_sections": true,
   "sideBar": true,
   "skip_h1_title": false,
   "title_cell": "Table of Contents",
   "title_sidebar": "Contents",
   "toc_cell": false,
   "toc_position": {},
   "toc_section_display": true,
   "toc_window_display": false
  }
 },
 "nbformat": 4,
 "nbformat_minor": 4
}
