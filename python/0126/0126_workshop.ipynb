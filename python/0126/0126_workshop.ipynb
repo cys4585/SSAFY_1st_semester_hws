{
 "cells": [
  {
   "cell_type": "markdown",
   "id": "extraordinary-pressing",
   "metadata": {},
   "source": [
    "### 1. 무엇이 중복일까\n",
    "문자열을 전달받아 해당 문자열에서 중복해서 나타난 문자들을 담은 list를 반환하는 duplicated_letters 함수를 작성하시오."
   ]
  },
  {
   "cell_type": "code",
   "execution_count": 34,
   "id": "mineral-salon",
   "metadata": {},
   "outputs": [],
   "source": [
    "def duplicated_letters(word):\n",
    "    result = []\n",
    "    for char in word:\n",
    "        if word.count(char) > 1 and char not in result:\n",
    "            result.append(char)\n",
    "    return result"
   ]
  },
  {
   "cell_type": "code",
   "execution_count": 7,
   "id": "sexual-trace",
   "metadata": {},
   "outputs": [],
   "source": [
    "def duplicated_letters(word):\n",
    "    result = []\n",
    "    for i in range(len(word)):\n",
    "        for j in range(i+1, len(word)):\n",
    "            if word[i] not in result and word[i] == word[j]:\n",
    "                result.append(word[i])\n",
    "    print(result)\n",
    "    return result"
   ]
  },
  {
   "cell_type": "code",
   "execution_count": 35,
   "id": "ready-sequence",
   "metadata": {},
   "outputs": [
    {
     "data": {
      "text/plain": [
       "['a', 'n']"
      ]
     },
     "execution_count": 35,
     "metadata": {},
     "output_type": "execute_result"
    }
   ],
   "source": [
    "duplicated_letters('apple') # ['p']\n",
    "duplicated_letters('banana') # ['a', 'n']"
   ]
  },
  {
   "cell_type": "markdown",
   "id": "local-amino",
   "metadata": {},
   "source": [
    "### 2. 소대소대\n",
    "문자열을 전달받아 해당 문자열을 소문자와 대문자가 번갈아 나타나도록 변환하여 반환하는 low_and_up 함수를 작성하시오. 이때, 전달받는 문자열은 알파벳으로만 구성된다."
   ]
  },
  {
   "cell_type": "code",
   "execution_count": 11,
   "id": "dried-illinois",
   "metadata": {},
   "outputs": [],
   "source": [
    "def low_and_up(word):\n",
    "    result = ''\n",
    "    for i in range(len(word)):\n",
    "        if i % 2:\n",
    "            result += word[i].upper()\n",
    "        else:\n",
    "            result += word[i].lower()\n",
    "    print(result)\n",
    "    return result"
   ]
  },
  {
   "cell_type": "code",
   "execution_count": 12,
   "id": "occupational-hunger",
   "metadata": {},
   "outputs": [
    {
     "name": "stdout",
     "output_type": "stream",
     "text": [
      "aPpLe\n",
      "bAnAnA\n"
     ]
    },
    {
     "data": {
      "text/plain": [
       "'bAnAnA'"
      ]
     },
     "execution_count": 12,
     "metadata": {},
     "output_type": "execute_result"
    }
   ],
   "source": [
    "low_and_up('apple') # aPpLe\n",
    "low_and_up('banana') # bAnAnA"
   ]
  },
  {
   "cell_type": "markdown",
   "id": "czech-robin",
   "metadata": {},
   "source": [
    "### 3. 숫자의 의미\n",
    "정수 0부터 9까지로 이루어진 list를 전달받아, 연속적으로 나타나는 숫자는 하나만 남기고 제거한 list를 반환하는 lonely 함수를 작성하시오. 이때, 제거된 후 남은 수들이 담긴 list의 요소들은 기존의 순서를 유지해야 한다."
   ]
  },
  {
   "cell_type": "code",
   "execution_count": 32,
   "id": "sixth-repair",
   "metadata": {},
   "outputs": [],
   "source": [
    "def lonely(list_data):\n",
    "    result = []\n",
    "    for i in range(len(list_data)):\n",
    "        if i == 0:\n",
    "            result.append(list_data[i])\n",
    "        elif list_data[i-1] != list_data[i]:\n",
    "            result.append(list_data[i])     \n",
    "    print(result)\n",
    "    return result"
   ]
  },
  {
   "cell_type": "code",
   "execution_count": 33,
   "id": "unlike-start",
   "metadata": {},
   "outputs": [
    {
     "name": "stdout",
     "output_type": "stream",
     "text": [
      "[1, 3, 0, 1]\n",
      "[4, 3]\n"
     ]
    },
    {
     "data": {
      "text/plain": [
       "[4, 3]"
      ]
     },
     "execution_count": 33,
     "metadata": {},
     "output_type": "execute_result"
    }
   ],
   "source": [
    "lonely([1,1,3,3,0,1,1]) # [1,3,0,1]\n",
    "lonely([4,4,4,3,3]) # [4,3]"
   ]
  }
 ],
 "metadata": {
  "kernelspec": {
   "display_name": "Python 3",
   "language": "python",
   "name": "python3"
  },
  "language_info": {
   "codemirror_mode": {
    "name": "ipython",
    "version": 3
   },
   "file_extension": ".py",
   "mimetype": "text/x-python",
   "name": "python",
   "nbconvert_exporter": "python",
   "pygments_lexer": "ipython3",
   "version": "3.8.7"
  }
 },
 "nbformat": 4,
 "nbformat_minor": 5
}
