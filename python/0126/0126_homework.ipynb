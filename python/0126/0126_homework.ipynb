{
 "cells": [
  {
   "cell_type": "markdown",
   "id": "ongoing-examination",
   "metadata": {},
   "source": [
    "### 1. Built-in 함수와 메서드\n",
    "sorted()와 .sort()의 차이점을 코드의 실행결과를 활용하여 설명하시오."
   ]
  },
  {
   "cell_type": "code",
   "execution_count": 3,
   "id": "played-perfume",
   "metadata": {},
   "outputs": [
    {
     "name": "stdout",
     "output_type": "stream",
     "text": [
      "[5, 2, 6, 8, 2, 8, 9, 10]\n",
      "[2, 2, 5, 6, 8, 8, 9, 10]\n"
     ]
    }
   ],
   "source": [
    "a = [5,2,6,8,2,8,9,10]\n",
    "\n",
    "b = sorted(a)\n",
    "\n",
    "print(a)\n",
    "print(b)"
   ]
  },
  {
   "cell_type": "code",
   "execution_count": 4,
   "id": "front-boating",
   "metadata": {},
   "outputs": [
    {
     "name": "stdout",
     "output_type": "stream",
     "text": [
      "[2, 2, 5, 6, 8, 8, 9, 10]\n",
      "None\n"
     ]
    }
   ],
   "source": [
    "a = [5,2,6,8,2,8,9,10]\n",
    "\n",
    "b = a.sort()\n",
    "\n",
    "print(a)\n",
    "print(b)"
   ]
  },
  {
   "cell_type": "markdown",
   "id": "agricultural-canyon",
   "metadata": {},
   "source": [
    "- sorted(iterable) : iterable 요소를 정렬해서 리스트로 반환한다.\n",
    "- .sort() : 원본을 정렬만 한다. None을 반환한다."
   ]
  },
  {
   "cell_type": "markdown",
   "id": "informative-ambassador",
   "metadata": {},
   "source": [
    "### 2. .extend()와 .append()\n",
    ".extend()와 .append()의 차이점을 코드의 실행 결과를 활용하여 설명하시오."
   ]
  },
  {
   "cell_type": "code",
   "execution_count": 16,
   "id": "quick-kingston",
   "metadata": {},
   "outputs": [
    {
     "name": "stdout",
     "output_type": "stream",
     "text": [
      "[1, 2, 3, 4, 5, 6]\n",
      "[4, 5, 6]\n"
     ]
    }
   ],
   "source": [
    "a = [1,2,3]\n",
    "b = [4,5,6]\n",
    "\n",
    "a.extend(b)\n",
    "\n",
    "print(a)\n",
    "print(b)"
   ]
  },
  {
   "cell_type": "code",
   "execution_count": 17,
   "id": "sunrise-burke",
   "metadata": {},
   "outputs": [
    {
     "name": "stdout",
     "output_type": "stream",
     "text": [
      "[1, 2, 3, [4, 5, 6]]\n",
      "[4, 5, 6]\n"
     ]
    }
   ],
   "source": [
    "a = [1,2,3]\n",
    "b = [4,5,6]\n",
    "\n",
    "a.append(b)\n",
    "\n",
    "print(a)\n",
    "print(b)"
   ]
  },
  {
   "cell_type": "markdown",
   "id": "thirty-circumstances",
   "metadata": {},
   "source": [
    "- .extend() : 별도의 iterable 데이터들을 연결하는 함수\n",
    "- .append() : iterable 데이터에 원소를 추가하는 함수"
   ]
  },
  {
   "cell_type": "markdown",
   "id": "considered-sheriff",
   "metadata": {},
   "source": [
    "### 3. 복사가 잘 된 건가?\n",
    "아래의 코드를 실행하였을 때, 변수 a와 b에 담긴 list의 요소가 같은지 혹은 다른지 여부를 판단하고 그 이유를 작성하시오."
   ]
  },
  {
   "cell_type": "code",
   "execution_count": 18,
   "id": "enormous-mirror",
   "metadata": {},
   "outputs": [
    {
     "name": "stdout",
     "output_type": "stream",
     "text": [
      "[1, 2, 5, 4, 5]\n",
      "[1, 2, 5, 4, 5]\n"
     ]
    }
   ],
   "source": [
    "a = [1,2,3,4,5]\n",
    "b = a\n",
    "\n",
    "a[2] = 5\n",
    "\n",
    "print(a)\n",
    "print(b)\n",
    "\n",
    "# 변수 a와 b에 담긴 요소는 같다.\n",
    "# a와 b는 같은 리스트를 공유한다."
   ]
  }
 ],
 "metadata": {
  "kernelspec": {
   "display_name": "Python 3",
   "language": "python",
   "name": "python3"
  },
  "language_info": {
   "codemirror_mode": {
    "name": "ipython",
    "version": 3
   },
   "file_extension": ".py",
   "mimetype": "text/x-python",
   "name": "python",
   "nbconvert_exporter": "python",
   "pygments_lexer": "ipython3",
   "version": "3.8.7"
  }
 },
 "nbformat": 4,
 "nbformat_minor": 5
}
