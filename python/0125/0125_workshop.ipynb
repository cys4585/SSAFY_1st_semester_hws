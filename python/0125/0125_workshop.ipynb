{
 "cells": [
  {
   "cell_type": "markdown",
   "id": "multiple-worker",
   "metadata": {},
   "source": [
    "### 1. 평균 점수 구하기\n",
    "key 값으로 과목명, value 값으로 점수를 가지는 dictionary를 전달받아, 전체 과목의 평균 점수를 반환하는 get_dict_avg 함수를 작성하시오."
   ]
  },
  {
   "cell_type": "code",
   "execution_count": 1,
   "id": "intensive-joining",
   "metadata": {},
   "outputs": [],
   "source": [
    "def get_dict_avg(scores):\n",
    "    total = 0\n",
    "    for value in scores.values():\n",
    "        total += value\n",
    "    return total / len(scores)"
   ]
  },
  {
   "cell_type": "code",
   "execution_count": 2,
   "id": "worldwide-venezuela",
   "metadata": {},
   "outputs": [
    {
     "data": {
      "text/plain": [
       "85.5"
      ]
     },
     "execution_count": 2,
     "metadata": {},
     "output_type": "execute_result"
    }
   ],
   "source": [
    "get_dict_avg({\n",
    "    'python': 80,\n",
    "    'algorithm': 90,\n",
    "    'django': 89,\n",
    "    'web': 83\n",
    "}) # 85.5"
   ]
  },
  {
   "cell_type": "markdown",
   "id": "thermal-findings",
   "metadata": {},
   "source": [
    "### 2. 혈액형 분류하기\n",
    "여러 사람의 혈액형(A, B, AB, O)에 대한 정보가 담긴 list를 전달받아, key는 혈액형의 종류, value는 살마 수인 dictionary를 반환하는 count_blood 함수를 작성하시오."
   ]
  },
  {
   "cell_type": "code",
   "execution_count": 23,
   "id": "stretch-astronomy",
   "metadata": {},
   "outputs": [],
   "source": [
    "def count_blood(bloods):\n",
    "    result = {}\n",
    "    for blood in bloods:\n",
    "        if result.get(blood):\n",
    "            result[blood] += 1\n",
    "        else:\n",
    "            result[blood] = 1\n",
    "    return result"
   ]
  },
  {
   "cell_type": "code",
   "execution_count": 24,
   "id": "passing-vintage",
   "metadata": {},
   "outputs": [
    {
     "data": {
      "text/plain": [
       "{'A': 3, 'B': 3, 'O': 3, 'AB': 3}"
      ]
     },
     "execution_count": 24,
     "metadata": {},
     "output_type": "execute_result"
    }
   ],
   "source": [
    "count_blood([\n",
    "    'A', 'B', 'A', 'O', 'AB', 'AB',\n",
    "    'O', 'A', 'B', 'O', 'B', 'AB'\n",
    "]) # {'A': 3, 'B': 3, 'O': 3, 'AB': 3}"
   ]
  }
 ],
 "metadata": {
  "kernelspec": {
   "display_name": "Python 3",
   "language": "python",
   "name": "python3"
  },
  "language_info": {
   "codemirror_mode": {
    "name": "ipython",
    "version": 3
   },
   "file_extension": ".py",
   "mimetype": "text/x-python",
   "name": "python",
   "nbconvert_exporter": "python",
   "pygments_lexer": "ipython3",
   "version": "3.8.7"
  }
 },
 "nbformat": 4,
 "nbformat_minor": 5
}
