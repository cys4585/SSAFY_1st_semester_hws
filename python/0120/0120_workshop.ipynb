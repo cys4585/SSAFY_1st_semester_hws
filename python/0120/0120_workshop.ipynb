{
 "cells": [
  {
   "cell_type": "markdown",
   "id": "developmental-blink",
   "metadata": {},
   "source": [
    "## 1. List의 합 구하기\n",
    "* 정수로만 이루어진 list를 전달받아 해당 list의 모든 요소들의 합을 반환하는 list_sum함수를 built_in 함수인 sum(0) 함수를 사용하지 않고 작성하시오."
   ]
  },
  {
   "cell_type": "code",
   "execution_count": 1,
   "id": "noted-watts",
   "metadata": {},
   "outputs": [
    {
     "data": {
      "text/plain": [
       "15"
      ]
     },
     "execution_count": 1,
     "metadata": {},
     "output_type": "execute_result"
    }
   ],
   "source": [
    "def list_sum(a):\n",
    "    result = 0\n",
    "    for n in a:\n",
    "        result += n\n",
    "    return result\n",
    "    \n",
    "list_sum([1, 2, 3, 4, 5]) # return 15"
   ]
  },
  {
   "cell_type": "markdown",
   "id": "sticky-reservoir",
   "metadata": {},
   "source": [
    "## 2. Dictionary로 이루어진 List의 합 구하기\n",
    "* Dictionary로 이루어진 list를 전달받아 모든 dictionary의 'age' key에 해당하는 value들의 합을 반환하는 dict_list_sum 함수를 built-in 함수인 sum() 함수를 사용하지 않고 작성하시오."
   ]
  },
  {
   "cell_type": "code",
   "execution_count": 2,
   "id": "impaired-modification",
   "metadata": {},
   "outputs": [
    {
     "data": {
      "text/plain": [
       "16"
      ]
     },
     "execution_count": 2,
     "metadata": {},
     "output_type": "execute_result"
    }
   ],
   "source": [
    "def dict_list_sum(a):\n",
    "    result = 0\n",
    "    for i in a:\n",
    "        result += i['age']\n",
    "    return result\n",
    "\n",
    "dict_list_sum([{'name': 'kim', 'age':12},\n",
    "                {'name': 'lee', 'age':4}]) # return 16"
   ]
  },
  {
   "cell_type": "markdown",
   "id": "opposite-split",
   "metadata": {},
   "source": [
    "## 3. 2차원 List의 전체 합 구하기\n",
    "* 정수로만 이루어진 2차원 list를 전달받아 해당 list의 모든 요소들의 합을 반환하는 all_list_sum 함수를 built-in 함수인 sum() 함수를 사용하지 않고 작성하시오."
   ]
  },
  {
   "cell_type": "code",
   "execution_count": 3,
   "id": "creative-stations",
   "metadata": {},
   "outputs": [
    {
     "data": {
      "text/plain": [
       "55"
      ]
     },
     "execution_count": 3,
     "metadata": {},
     "output_type": "execute_result"
    }
   ],
   "source": [
    "def all_list_sum(a):\n",
    "    result = 0\n",
    "    for i in a:\n",
    "        for j in i:\n",
    "            result += j\n",
    "    return result\n",
    "    \n",
    "all_list_sum([[1], [2,3], [4,5,6], [7,8,9,10]]) # return 55 "
   ]
  },
  {
   "cell_type": "code",
   "execution_count": 2,
   "id": "whole-report",
   "metadata": {},
   "outputs": [
    {
     "data": {
      "text/plain": [
       "[1, 2, 3, 4, 5, 6, 7, 8, 9, 10]"
      ]
     },
     "execution_count": 2,
     "metadata": {},
     "output_type": "execute_result"
    }
   ],
   "source": [
    "# list + list -> list들의 원소들을 합친 list를 만들어서 반환한다.\n",
    "def all_list_sum(a):\n",
    "    result = []\n",
    "    for i in a:\n",
    "            result += i\n",
    "    return result\n",
    "    \n",
    "all_list_sum([[1], [2,3], [4,5,6], [7,8,9,10]]) # return 55 "
   ]
  }
 ],
 "metadata": {
  "kernelspec": {
   "display_name": "Python 3",
   "language": "python",
   "name": "python3"
  },
  "language_info": {
   "codemirror_mode": {
    "name": "ipython",
    "version": 3
   },
   "file_extension": ".py",
   "mimetype": "text/x-python",
   "name": "python",
   "nbconvert_exporter": "python",
   "pygments_lexer": "ipython3",
   "version": "3.8.7"
  }
 },
 "nbformat": 4,
 "nbformat_minor": 5
}
