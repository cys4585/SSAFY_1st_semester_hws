{
 "cells": [
  {
   "cell_type": "markdown",
   "id": "gothic-mechanism",
   "metadata": {},
   "source": [
    "## 1. Built-in 함수\n",
    "* Python에서 기본으로 사용할 수 있는 built-in 함수를 최소 5가지 이상 작성하시오."
   ]
  },
  {
   "cell_type": "markdown",
   "id": "directed-intelligence",
   "metadata": {},
   "source": [
    "* int(), print(), len(), sorted(), max(), min() ... "
   ]
  },
  {
   "cell_type": "markdown",
   "id": "mighty-registrar",
   "metadata": {},
   "source": [
    "## 2. 정중앙 문자\n",
    "* 문자열을 전달 받아 해당 문자열의 정중앙 문자를 반환하는 get_middle_char 함수를 작성하시오. 단, 문자열의 길이가 짝수일 경우에는 정중앙 문자 2개를 반환한다."
   ]
  },
  {
   "cell_type": "code",
   "execution_count": 8,
   "id": "likely-calculation",
   "metadata": {},
   "outputs": [
    {
     "name": "stdout",
     "output_type": "stream",
     "text": [
      "a\n",
      "di\n"
     ]
    },
    {
     "data": {
      "text/plain": [
       "'di'"
      ]
     },
     "execution_count": 8,
     "metadata": {},
     "output_type": "execute_result"
    }
   ],
   "source": [
    "def get_middle_char(string):\n",
    "    i = len(string)//2\n",
    "    # 길이가 홀수일 때\n",
    "    if len(string) % 2:\n",
    "        print(string[i])\n",
    "        return string[i]\n",
    "    # 길이가 짝수일 때\n",
    "    else:\n",
    "        print(string[i-1:i+1])\n",
    "        return string[i-1:i+1]\n",
    "\n",
    "get_middle_char('ssafy') # => a\n",
    "get_middle_char('coding') # => di"
   ]
  },
  {
   "cell_type": "markdown",
   "id": "impaired-rental",
   "metadata": {},
   "source": [
    "## 3. 위치 인자와 키워드 인자\n",
    "* 다음과 같이 함수가 선언되어 있을 때, 보기 (1)~(4) 중에서 실행 시 오류가 발생하는 코드를 고르시오."
   ]
  },
  {
   "cell_type": "code",
   "execution_count": 11,
   "id": "gorgeous-phone",
   "metadata": {},
   "outputs": [
    {
     "ename": "SyntaxError",
     "evalue": "positional argument follows keyword argument (<ipython-input-11-de4776688fde>, line 14)",
     "output_type": "error",
     "traceback": [
      "\u001b[1;36m  File \u001b[1;32m\"<ipython-input-11-de4776688fde>\"\u001b[1;36m, line \u001b[1;32m14\u001b[0m\n\u001b[1;33m    ssafy(name='길동', '구미')\u001b[0m\n\u001b[1;37m                         ^\u001b[0m\n\u001b[1;31mSyntaxError\u001b[0m\u001b[1;31m:\u001b[0m positional argument follows keyword argument\n"
     ]
    }
   ],
   "source": [
    "def ssafy(name, location='서울'):\n",
    "    print(f'{name}의 지역은 {location}입니다.')\n",
    "    \n",
    "# (1) y\n",
    "ssafy('허준')\n",
    "\n",
    "# (2) y\n",
    "ssafy(location='대전', name='철수')\n",
    "\n",
    "# (3) y\n",
    "ssafy('영희', location='광주')\n",
    "\n",
    "# (4) n : 키워드 인자뒤에 기본 인자가 올 수 없다..?\n",
    "ssafy(name='길동', '구미')"
   ]
  },
  {
   "cell_type": "markdown",
   "id": "therapeutic-ticket",
   "metadata": {},
   "source": [
    "## 4. 나의 반환값은\n",
    "* 다음과 같이 함수를 선언하고 호출하였을 때, 변수 result에 저장된 값을 작성하시오."
   ]
  },
  {
   "cell_type": "code",
   "execution_count": 14,
   "id": "spectacular-glasgow",
   "metadata": {},
   "outputs": [
    {
     "name": "stdout",
     "output_type": "stream",
     "text": [
      "10\n"
     ]
    }
   ],
   "source": [
    "def my_func(a, b):\n",
    "    c = a + b\n",
    "    print(c)\n",
    "    \n",
    "result = my_func(3, 7) # None : my_func 함수는 리턴하는 값이 없음"
   ]
  },
  {
   "cell_type": "markdown",
   "id": "moved-bacon",
   "metadata": {},
   "source": [
    "## 5. 가변 인자 리스트\n",
    "* 가변 인자 리스트를 사용하여, 갯수가 정해지지 않은 여러 정수들을 전달받아 해당 정수들의 평균 값을 반환하는 my_avg 함수를 작성하시오."
   ]
  },
  {
   "cell_type": "code",
   "execution_count": 16,
   "id": "alone-kernel",
   "metadata": {},
   "outputs": [
    {
     "data": {
      "text/plain": [
       "81.0"
      ]
     },
     "execution_count": 16,
     "metadata": {},
     "output_type": "execute_result"
    }
   ],
   "source": [
    "def my_avg(*args):\n",
    "    result = 0 \n",
    "    for n in args:\n",
    "        result += n\n",
    "    return result / len(args)\n",
    "    \n",
    "my_avg(77, 83, 95, 80, 70) # return 81.0"
   ]
  }
 ],
 "metadata": {
  "kernelspec": {
   "display_name": "Python 3",
   "language": "python",
   "name": "python3"
  },
  "language_info": {
   "codemirror_mode": {
    "name": "ipython",
    "version": 3
   },
   "file_extension": ".py",
   "mimetype": "text/x-python",
   "name": "python",
   "nbconvert_exporter": "python",
   "pygments_lexer": "ipython3",
   "version": "3.8.7"
  }
 },
 "nbformat": 4,
 "nbformat_minor": 5
}
