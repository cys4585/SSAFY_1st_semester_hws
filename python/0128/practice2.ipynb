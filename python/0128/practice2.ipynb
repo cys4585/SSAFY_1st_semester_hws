{
 "cells": [
  {
   "cell_type": "markdown",
   "metadata": {},
   "source": [
    "# Practice 2\n",
    "\n",
    "> OOP(Object-Oriented-Programming)"
   ]
  },
  {
   "cell_type": "markdown",
   "metadata": {},
   "source": [
    "## Pair Matching Program\n",
    "\n",
    "> 페어 프로그래밍은 하나의 컴퓨터에서 두 사람의 프로그래머가 작업하는 방식을 의미한다. \n",
    ">\n",
    "> SSAFY 1학기 정규 과정에서 프로젝트는 페어 프로그래밍을 통해 진행한다. 진정한 프로그래머가 되기 위해 김싸피는 페어를 매칭하기 위한 프로그램을 작성하려고 한다. 클래스를 활용해 작성하며 포함되는 메서드는 아래와 같다.\n",
    ">\n",
    "\n",
    "**구성 요소**\n",
    "1. 초기화 메서드는 인자로 학생 이름으로 구성된 리스트를 받아서 인스턴스 변수에 할당한다.\n",
    "2. `pick(n)` 메서드는 학생들 명단에서 인자 n명 만큼 랜덤으로 추출하여 return한다.\n",
    "3. `match_pair()` 메서드는 학생들 명단을 랜덤으로 2명씩 매칭해 준다. 이때, 학생들 명단의 수가 홀수명이면 단 한팀만 3명으로 구성한다.\n",
    "\n",
    "---\n",
    "\n",
    "예시)\n",
    "\n",
    "```python\n",
    "ch = ClassHelper(['김싸피', '이싸피', '조싸피', '박싸피', '정싸피'])\n",
    "\n",
    "ch.pick(1) #=> ['이싸피']\n",
    "ch.pick(1) #=> ['김싸피']\n",
    "ch.pick(2) #=> ['김싸피', '박싸피']\n",
    "ch.pick(3) #=> ['김싸피', '조싸피', '정싸피']\n",
    "ch.pick(4) #=> ['박싸피', '이싸피', '김싸피', '정싸피']\n",
    "\n",
    "ch.match_pair() #=> [['조싸피', '이싸피'], ['김싸피', '정싸피', '박싸피']]\n",
    "```"
   ]
  },
  {
   "cell_type": "code",
   "execution_count": 109,
   "metadata": {},
   "outputs": [],
   "source": [
    "import random\n",
    "\n",
    "class ClassHelper:\n",
    "    pass\n",
    "    # 아래에 코드를 작성하시오.\n",
    "    def __init__(self, students: list):\n",
    "        self.students = students\n",
    "        \n",
    "#     def pick(self, num: int):\n",
    "#         # list 복사\n",
    "#         self.temp = list(self.students)\n",
    "#         # return할 빈 리스트 생성\n",
    "#         self.pick_list = []\n",
    "#         # num명 뽑아야함 (num번 반복)\n",
    "#         for i in range(num):\n",
    "#             # list의 index 랜덤으로 하나 추출\n",
    "#             self.random_index = random.randint(0, len(self.temp)-1)\n",
    "#             # return할 리스트에 원소 추가\n",
    "#             self.pick_list.append(self.temp.pop(self.random_index))\n",
    "#         return self.pick_list\n",
    "    \n",
    "#     def match_pair(self):\n",
    "        \n",
    "#         self.temp = list(self.students)\n",
    "#         self.pairs = []\n",
    "#         while len(self.temp) > 3:\n",
    "#             self.one_pair = []\n",
    "#             for i in range(2):\n",
    "#                 self.random_index = random.randint(0, len(self.temp)-1)\n",
    "#                 self.one_pair.append(self.temp.pop(self.random_index))\n",
    "#             self.pairs.append(self.one_pair)\n",
    "#         self.pairs.append(self.temp)\n",
    "#         return self.pairs\n",
    "    \n",
    "#     def match_pair(self):\n",
    "#         random.shuffle(self.students)\n",
    "#         self.big_list = []\n",
    "\n",
    "#         while len(self.students) > 3:\n",
    "#             self.small_list = []\n",
    "#             self.small_list.append(self.students.pop())\n",
    "#             self.small_list.append(self.students.pop())\n",
    "#             self.big_list.append(self.small_list)\n",
    "#         self.big_list.append(self.students)\n",
    "#         return self.big_list\n",
    "           \n",
    "    def pick(self, n):\n",
    "        return random.sample(self.students, n)\n",
    "        \n",
    "    def match_pair(self):\n",
    "        self.big_list = []\n",
    "        while len(self.students) > 3:\n",
    "            self.pair = self.pick(2)\n",
    "            self.big_list.append(self.pair)\n",
    "            for p in self.pair:\n",
    "                self.students.remove(p)\n",
    "        self.big_list.append(self.students)\n",
    "        return self.big_list"
   ]
  },
  {
   "cell_type": "code",
   "execution_count": 107,
   "metadata": {},
   "outputs": [
    {
     "name": "stdout",
     "output_type": "stream",
     "text": [
      "['조싸피']\n",
      "['민싸피', '이싸피']\n",
      "['박싸피', '홍싸피', '조싸피']\n",
      "['조싸피', '김싸피', '왕싸피', '정싸피']\n",
      "['이싸피', '박싸피', '왕싸피', '홍싸피', '조싸피']\n",
      "[['박싸피', '왕싸피'], ['조싸피', '정싸피'], ['김싸피', '민싸피'], ['이싸피', '홍싸피']]\n"
     ]
    }
   ],
   "source": [
    "## 해당 코드를 통해 올바른 결과가 나오는지 확인하시오.\n",
    "ch = ClassHelper(['김싸피', '이싸피', '조싸피', '박싸피', '정싸피', '홍싸피', '민싸피', '왕싸피'])\n",
    "\n",
    "print(ch.pick(1))\n",
    "print(ch.pick(2)) \n",
    "print(ch.pick(3))\n",
    "print(ch.pick(4))\n",
    "print(ch.pick(5))\n",
    "\n",
    "print(ch.match_pair())\n"
   ]
  }
 ],
 "metadata": {
  "kernelspec": {
   "display_name": "Python 3",
   "language": "python",
   "name": "python3"
  },
  "language_info": {
   "codemirror_mode": {
    "name": "ipython",
    "version": 3
   },
   "file_extension": ".py",
   "mimetype": "text/x-python",
   "name": "python",
   "nbconvert_exporter": "python",
   "pygments_lexer": "ipython3",
   "version": "3.8.7"
  },
  "toc": {
   "base_numbering": 1,
   "nav_menu": {},
   "number_sections": true,
   "sideBar": true,
   "skip_h1_title": false,
   "title_cell": "Table of Contents",
   "title_sidebar": "Contents",
   "toc_cell": false,
   "toc_position": {},
   "toc_section_display": true,
   "toc_window_display": false
  }
 },
 "nbformat": 4,
 "nbformat_minor": 4
}
