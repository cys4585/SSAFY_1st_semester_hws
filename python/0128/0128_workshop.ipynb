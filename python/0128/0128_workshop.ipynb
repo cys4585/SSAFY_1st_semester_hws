{
 "cells": [
  {
   "cell_type": "markdown",
   "id": "demographic-duplicate",
   "metadata": {},
   "source": [
    "### #. 도형 만들기\n",
    "아래의 명세를 읽고 Python 클래스를 활용하여 점(Point)과 사각형(Rectangle)을 표현하시오."
   ]
  },
  {
   "cell_type": "markdown",
   "id": "sealed-breath",
   "metadata": {},
   "source": [
    "- Point 클래스에 대한 명세는 다음과 같다.\n",
    "    - 인스턴스 변수 x : int (x 좌표)\n",
    "    - 인스턴스 변수 y : int (y 좌표)\n",
    "    - 생성자 메서드 __init__ : 매개변수(x좌표, y좌표) 반환값없음 설명(인스턴스가 생성될 때, 전달받은 int 값들로 인스턴스 변수 x와 y를 초기화) \n",
    "    - ex) p1 = Point(4, 3) => 좌표 (4, 3)의 점\n",
    "\n",
    "- Rectangle 클래스에 대한 명세는 다음과 같다.\n",
    "    - 인스턴스 변수 p1 : Point (좌측 상단 좌표)\n",
    "    - 인스턴스 변수 p2 : Point (우측 하단 좌표)\n",
    "    - 생성자 메서드 __init__ : 매개변수(Point 인스턴스, Point 인스턴스) 반환값없음 설명(인스턴스가 생성될 때, 2개의 Point 인스턴스를 전달받아, 인스턴스 변수 p1과 p2를 초기화)\n",
    "    - get_area : 매개변수없음 반환값(넓이(int)) 설명(사각형의 넓이를 계산하여 반환)\n",
    "    - get_perimeter : 매개변수없음 반환값(둘레(int)) 설명(사각형의 둘레 길이를 계산하여 반환)\n",
    "    - is_square : 매개변수없음 반환값(정사각형유무(bool) 설명(사각형이 정사각형이면 True, 아니면 False 반환)"
   ]
  },
  {
   "cell_type": "code",
   "execution_count": 7,
   "id": "patient-wiring",
   "metadata": {},
   "outputs": [],
   "source": [
    "class Point:\n",
    "    \n",
    "    def __init__(self, x, y):\n",
    "        self.x = x\n",
    "        self.y = y\n",
    "        \n",
    "class Rectangle:\n",
    "    \n",
    "    def __init__(self, p1, p2):\n",
    "        self.p1 = p1\n",
    "        self.p2 = p2\n",
    "        \n",
    "    def get_area(self):\n",
    "        return abs(self.p1.x - self.p2.x) * abs(self.p1.y - self.p2.y)\n",
    "    \n",
    "    def get_perimeter(self):\n",
    "        return 2 * (abs(self.p1.x - self.p1.x) + abs(self.p1.y - self.p2.y))\n",
    "    \n",
    "    def is_square(self):\n",
    "        if abs(self.p1.x - self.p2.x) == abs(self.p1.y - self.p2.y):\n",
    "            return True\n",
    "        else:\n",
    "            return False"
   ]
  },
  {
   "cell_type": "code",
   "execution_count": 9,
   "id": "disturbed-celebrity",
   "metadata": {},
   "outputs": [
    {
     "name": "stdout",
     "output_type": "stream",
     "text": [
      "4\n",
      "4\n",
      "True\n",
      "9\n",
      "6\n",
      "True\n"
     ]
    }
   ],
   "source": [
    "p1 = Point(1, 3)\n",
    "p2 = Point(3, 1)\n",
    "r1 = Rectangle(p1, p2)\n",
    "print(r1.get_area())\n",
    "print(r1.get_perimeter())\n",
    "print(r1.is_square())\n",
    "\n",
    "p3 = Point(3, 7)\n",
    "p4 = Point(6, 4)\n",
    "r2 = Rectangle(p3, p4)\n",
    "print(r2.get_area())\n",
    "print(r2.get_perimeter())\n",
    "print(r2.is_square())"
   ]
  }
 ],
 "metadata": {
  "kernelspec": {
   "display_name": "Python 3",
   "language": "python",
   "name": "python3"
  },
  "language_info": {
   "codemirror_mode": {
    "name": "ipython",
    "version": 3
   },
   "file_extension": ".py",
   "mimetype": "text/x-python",
   "name": "python",
   "nbconvert_exporter": "python",
   "pygments_lexer": "ipython3",
   "version": "3.8.7"
  }
 },
 "nbformat": 4,
 "nbformat_minor": 5
}
