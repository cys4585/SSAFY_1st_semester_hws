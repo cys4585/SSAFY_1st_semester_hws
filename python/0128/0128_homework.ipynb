{
 "cells": [
  {
   "cell_type": "markdown",
   "id": "three-riverside",
   "metadata": {},
   "source": [
    "### 1. Circle 인스턴스 만들기\n",
    "아래와 같은 Circle 클래스가 있을 때, 반지름이 3이고 x,y좌표가 (2,4)인 Circle 인스턴스를 만들어 넓이와 둘레를 출력하시오."
   ]
  },
  {
   "cell_type": "code",
   "execution_count": 2,
   "id": "internal-teens",
   "metadata": {},
   "outputs": [],
   "source": [
    "class Circle:\n",
    "    pi = 3.14\n",
    "    x = 0\n",
    "    y = 0\n",
    "    r = 0\n",
    "    \n",
    "    def __init__(self, r, x, y):\n",
    "        self.r = r\n",
    "        self.x = x\n",
    "        self.y = y\n",
    "    \n",
    "    def area(self):\n",
    "        return self.pi * self.r * self.r\n",
    "    \n",
    "    def circumference(self):\n",
    "        return 2 * self.pi * self.r\n",
    "    \n",
    "    def center(self):\n",
    "        return (self.x, self.y)"
   ]
  },
  {
   "cell_type": "code",
   "execution_count": 4,
   "id": "outdoor-madonna",
   "metadata": {},
   "outputs": [
    {
     "name": "stdout",
     "output_type": "stream",
     "text": [
      "28.259999999999998\n",
      "18.84\n"
     ]
    }
   ],
   "source": [
    "circle = Circle(3, 2, 4)\n",
    "\n",
    "print(circle.area())\n",
    "print(circle.circumference())"
   ]
  },
  {
   "cell_type": "markdown",
   "id": "everyday-madagascar",
   "metadata": {},
   "source": [
    "### Dog와 Bird는 Animal이다\n",
    "다음과 같이 Animal 클래스가 주어질 때, 해당 클래스를 상속 받아 아래의 보기와 같이 동작하는 Dog 클래스와 Bird 클래스를 작성하시오."
   ]
  },
  {
   "cell_type": "code",
   "execution_count": 3,
   "id": "limiting-queue",
   "metadata": {},
   "outputs": [],
   "source": [
    "class Animal:\n",
    "    def __init__(self, name):\n",
    "        self.name = name\n",
    "        \n",
    "    def walk(self):\n",
    "        print(f'{self.name}! 걷는다!')\n",
    "        \n",
    "    def eat(self):\n",
    "        print(f'{self.name}! 먹는다!')\n",
    "\n",
    "        \n",
    "class Dog(Animal):\n",
    "    def __init__(self, name):\n",
    "        super().__init__(name)\n",
    "            \n",
    "    def walk(self):\n",
    "        print(f'{self.name}! 달린다!')\n",
    "    \n",
    "    def bark(self):\n",
    "        print(f'{self.name}! 짖는다!')\n",
    "        \n",
    "class Bird(Animal):\n",
    "    def __init__(self, name):\n",
    "        super().__init__(name)\n",
    "    \n",
    "    def fly(self):\n",
    "        print(f'{self.name}! 푸드덕!')"
   ]
  },
  {
   "cell_type": "code",
   "execution_count": 4,
   "id": "decent-beijing",
   "metadata": {},
   "outputs": [
    {
     "name": "stdout",
     "output_type": "stream",
     "text": [
      "멍멍이! 달린다!\n",
      "멍멍이! 짖는다!\n",
      "구구! 걷는다!\n",
      "구구! 먹는다!\n",
      "구구! 푸드덕!\n"
     ]
    }
   ],
   "source": [
    "dog = Dog('멍멍이')\n",
    "dog.walk()\n",
    "dog.bark()\n",
    "\n",
    "bird = Bird('구구')\n",
    "bird.walk()\n",
    "bird.eat()\n",
    "bird.fly()"
   ]
  },
  {
   "cell_type": "markdown",
   "id": "distributed-deadline",
   "metadata": {},
   "source": [
    "### 3. 오류의 종류\n",
    "아래에 제시된 오류들이 각각 어떠한 경우에 발생하는지 간단하게 작성하시오."
   ]
  },
  {
   "cell_type": "markdown",
   "id": "innovative-making",
   "metadata": {},
   "source": [
    "- ZeroDivisionError : 어떤 수를 0으로 나누려고할 때 발생하는 오류\n",
    "- NameError : 정의되지 않은 변수를 호출할 때 발생하는 오류\n",
    "- TypeError : 자료형에 대한 잘못된 사용이 있을 때 발생하는 오류(매개변수와 인자의 타입이 다를 때 발생하는 오류 / 서로다른 타입을 연산하려고할 때 바생하는 오류)\n",
    "- IndexError : iterable한 데이터를 사용할 때, 인덱스 범위를 벗어날 때 발생하는 오류\n",
    "- KeyError : dictionary 데이터에서 존재하지 않는 key에 접근할 때 발생하는 오류\n",
    "- ModuleNotFoundError : 모듈을 찾을 수 없을때 발생하는 오류\n",
    "- ImportError : 모듈은 존재하지만, 클래스나 함수의 이름을 틀리게 찾고자 할 때 발생하는 오류"
   ]
  }
 ],
 "metadata": {
  "kernelspec": {
   "display_name": "Python 3",
   "language": "python",
   "name": "python3"
  },
  "language_info": {
   "codemirror_mode": {
    "name": "ipython",
    "version": 3
   },
   "file_extension": ".py",
   "mimetype": "text/x-python",
   "name": "python",
   "nbconvert_exporter": "python",
   "pygments_lexer": "ipython3",
   "version": "3.8.7"
  }
 },
 "nbformat": 4,
 "nbformat_minor": 5
}
