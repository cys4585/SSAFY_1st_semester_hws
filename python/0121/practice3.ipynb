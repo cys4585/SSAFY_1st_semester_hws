{
 "cells": [
  {
   "cell_type": "markdown",
   "metadata": {},
   "source": [
    "# Practice 1\n",
    "\n",
    "> 자료 구조 "
   ]
  },
  {
   "cell_type": "markdown",
   "metadata": {},
   "source": [
    "## 회문 판별\n",
    "\n",
    "> 회문 또는 팰린드롬은 거꾸로 읽어도 제대로 읽는 것과 같은 문장이나 낱말, 숫자, 문자열 등을 말한다. \n",
    "> \n",
    "> 입력으로 짧은 영어단어 word가 주어질 때, 해당 단어가 회문이면 True 회문이 아니면 False를 반환하는 함수를 작성하시오.\n",
    "> \n",
    "> 이때, 반복문(`while`)과 재귀 함수를 사용해서 각각 작성하시오.\n",
    "\n",
    "---\n",
    "\n",
    "예시)\n",
    "\n",
    "```python\n",
    "is_pal_while('tomato') #=> False\n",
    "is_pal_while('racecar') #=> True\n",
    "is_pal_recursive('azza') #=> True\n",
    "```"
   ]
  },
  {
   "cell_type": "code",
   "execution_count": 7,
   "metadata": {},
   "outputs": [],
   "source": [
    "# while\n",
    "\n",
    "def is_pal_while(word):\n",
    "    temp_word = ''\n",
    "    i = 0\n",
    "    while i < len(word):\n",
    "        temp_word = word[i] + temp_word\n",
    "        i += 1\n",
    "    if temp_word == word:\n",
    "        return True\n",
    "    return False"
   ]
  },
  {
   "cell_type": "code",
   "execution_count": 8,
   "metadata": {
    "ExecuteTime": {
     "end_time": "2020-07-22T06:02:28.799426Z",
     "start_time": "2020-07-22T06:02:28.795559Z"
    }
   },
   "outputs": [
    {
     "name": "stdout",
     "output_type": "stream",
     "text": [
      "False\n",
      "True\n",
      "True\n"
     ]
    }
   ],
   "source": [
    "# 해당 코드를 통해 올바른 결과가 나오는지 확인하시오.\n",
    "print(is_pal_while('tomato'))\n",
    "print(is_pal_while('racecar'))\n",
    "print(is_pal_while('azza'))"
   ]
  },
  {
   "cell_type": "code",
   "execution_count": 96,
   "metadata": {},
   "outputs": [],
   "source": [
    "def is_pal_while3(word):\n",
    "    while len(word) > 1:\n",
    "        if word[0] == word[-1]:\n",
    "            word = word[1:-1]\n",
    "        else:\n",
    "            return False\n",
    "    return True"
   ]
  },
  {
   "cell_type": "code",
   "execution_count": 98,
   "metadata": {},
   "outputs": [
    {
     "name": "stdout",
     "output_type": "stream",
     "text": [
      "False\n",
      "True\n",
      "True\n"
     ]
    }
   ],
   "source": [
    "print(is_pal_while3('tomato'))\n",
    "print(is_pal_while3('racecar'))\n",
    "print(is_pal_while3('azza'))"
   ]
  },
  {
   "cell_type": "code",
   "execution_count": 64,
   "metadata": {},
   "outputs": [],
   "source": [
    "# while by 준원\n",
    "\n",
    "def is_pal_while2(word):\n",
    "    last_idx = len(word) - 1\n",
    "    half = len(word)//2\n",
    "    i = 0\n",
    "    \n",
    "    if len(word)%2 == 0:\n",
    "        while i <= half - 1:\n",
    "            if word[i] != word[last_idx]:\n",
    "                return False\n",
    "            i += 1\n",
    "            last_idx -= 1\n",
    "    else:\n",
    "        while i <= half:\n",
    "            if word[i] != word[last_idx]:\n",
    "                return False\n",
    "            i += 1\n",
    "            last_idx -= 1\n",
    "    return True"
   ]
  },
  {
   "cell_type": "code",
   "execution_count": 65,
   "metadata": {},
   "outputs": [
    {
     "name": "stdout",
     "output_type": "stream",
     "text": [
      "False\n",
      "True\n",
      "True\n"
     ]
    }
   ],
   "source": [
    "print(is_pal_while2('tomato'))\n",
    "print(is_pal_while2('racecar'))\n",
    "print(is_pal_while2('azza'))"
   ]
  },
  {
   "cell_type": "markdown",
   "metadata": {},
   "source": [
    "#### 재귀함수 작성시 고민해야할 것들\n",
    "1. 끝낼 조건\n",
    "2. 언제 다시 반복할건지 (함수를 호출할 때 넣어줘야 하는 값에는 어떤 변화가 있어야 하는지)\n",
    "3. 무엇을 반환할 것인지"
   ]
  },
  {
   "cell_type": "code",
   "execution_count": 105,
   "metadata": {},
   "outputs": [],
   "source": [
    "def is_pal_recursive3(word):\n",
    "    # 1. 종료 조건\n",
    "    if len(word) <= 1:\n",
    "        # 회문인지 아닌지 판별 -> 함수가 반환해줄 값은?\n",
    "        # word vs True\n",
    "        return True\n",
    "    # 언제 다시 반복하 건지\n",
    "    # 양 끝이 같은지 조사하는 코드가 반복된다는 말은?\n",
    "    # 아직 False인 경우가 없는 경우\n",
    "    # 우선 양끝부터 비교해야겠죠?\n",
    "    if word[0] == word[-1]:\n",
    "        # 양끝이 같으면 이제 반복\n",
    "        # 넘겨주는 값에 변화가 있어야 한다 (그렇지 않으면 무한 반복)\n",
    "        return is_pal_recursive3(word[1:-1])\n",
    "    else:\n",
    "        return False"
   ]
  },
  {
   "cell_type": "code",
   "execution_count": 106,
   "metadata": {},
   "outputs": [
    {
     "name": "stdout",
     "output_type": "stream",
     "text": [
      "False\n",
      "True\n",
      "True\n"
     ]
    }
   ],
   "source": [
    "print(is_pal_recursive3('tomato'))\n",
    "print(is_pal_recursive3('racecar'))\n",
    "print(is_pal_recursive3('azza'))"
   ]
  },
  {
   "cell_type": "code",
   "execution_count": 101,
   "metadata": {},
   "outputs": [],
   "source": [
    "# recursive\n",
    "def is_pal_recursive(word):\n",
    "    if len(word) > 2:\n",
    "        if word[0] == word[-1]:\n",
    "            return is_pal_recursive(word[1:-1])\n",
    "        return False\n",
    "    if word[0] == word[-1]:\n",
    "        return True\n",
    "    return False"
   ]
  },
  {
   "cell_type": "code",
   "execution_count": 102,
   "metadata": {
    "ExecuteTime": {
     "end_time": "2020-07-22T05:45:13.268969Z",
     "start_time": "2020-07-22T05:45:13.263708Z"
    }
   },
   "outputs": [
    {
     "name": "stdout",
     "output_type": "stream",
     "text": [
      "False\n",
      "True\n",
      "True\n"
     ]
    }
   ],
   "source": [
    "# 해당 코드를 통해 올바른 결과가 나오는지 확인하시오.\n",
    "print(is_pal_recursive('tomato'))\n",
    "print(is_pal_recursive('racecar'))\n",
    "print(is_pal_recursive('azza'))"
   ]
  },
  {
   "cell_type": "code",
   "execution_count": 63,
   "metadata": {},
   "outputs": [],
   "source": [
    "# recursive by 준원\n",
    "\n",
    "def is_pal_recursive2(word):\n",
    "    l = len(word)\n",
    "    \n",
    "    if l > 2:\n",
    "        if word[0] == word[-1]:\n",
    "            return is_pal_recursive(word[1:-1])\n",
    "        else:\n",
    "            return False\n",
    "        \n",
    "    if word[0] == word[-1]:\n",
    "        return True\n",
    "    else:\n",
    "        return False"
   ]
  },
  {
   "cell_type": "code",
   "execution_count": 62,
   "metadata": {},
   "outputs": [
    {
     "name": "stdout",
     "output_type": "stream",
     "text": [
      "False\n",
      "True\n",
      "True\n"
     ]
    }
   ],
   "source": [
    "print(is_pal_recursive2('tomato'))\n",
    "print(is_pal_recursive2('racecar'))\n",
    "print(is_pal_recursive2('azza'))"
   ]
  }
 ],
 "metadata": {
  "kernelspec": {
   "display_name": "Python 3",
   "language": "python",
   "name": "python3"
  },
  "language_info": {
   "codemirror_mode": {
    "name": "ipython",
    "version": 3
   },
   "file_extension": ".py",
   "mimetype": "text/x-python",
   "name": "python",
   "nbconvert_exporter": "python",
   "pygments_lexer": "ipython3",
   "version": "3.8.7"
  },
  "toc": {
   "base_numbering": 1,
   "nav_menu": {},
   "number_sections": true,
   "sideBar": true,
   "skip_h1_title": false,
   "title_cell": "Table of Contents",
   "title_sidebar": "Contents",
   "toc_cell": false,
   "toc_position": {},
   "toc_section_display": true,
   "toc_window_display": false
  }
 },
 "nbformat": 4,
 "nbformat_minor": 4
}
