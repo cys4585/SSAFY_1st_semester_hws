{
 "cells": [
  {
   "cell_type": "markdown",
   "id": "minute-kingston",
   "metadata": {},
   "source": [
    "### 1. namespace\n",
    "Local (함수 내)\n",
    "\n",
    "Enclosing (\n",
    "\n",
    "Global\n",
    "\n",
    "Built-in"
   ]
  },
  {
   "cell_type": "markdown",
   "id": "joint-rider",
   "metadata": {},
   "source": [
    "### 2. 매개변수와 인자, 그리고 반환\n",
    "\n",
    "- (1) : return a, b 해도 됨 (자동으로 하나의 tuple로 묶여서 넘어감)"
   ]
  },
  {
   "cell_type": "markdown",
   "id": "romantic-assistant",
   "metadata": {},
   "source": [
    "### 3. 재귀 함수\n",
    "\n",
    "- 장점 : 코드 짧게 작성 가능 \n",
    "\n",
    "- 단점 : 코드 짜기가 어려움. 실행 시간이 오래 걸린다 (함수가 실행될 때마다 메모리가 쌓여나가고, 상대적으로 비효율적인 경우가 있다. 전체 코드가 실행되는데 걸리는 시간이 상대적으로 더 오래 걸리는 경우가 있다.)\n",
    "\n",
    "- 비고 : 파이썬에서는 무한 반복되는 상황을 대비하기 위해 3천번의 제한을 두고 있다"
   ]
  }
 ],
 "metadata": {
  "kernelspec": {
   "display_name": "Python 3",
   "language": "python",
   "name": "python3"
  },
  "language_info": {
   "codemirror_mode": {
    "name": "ipython",
    "version": 3
   },
   "file_extension": ".py",
   "mimetype": "text/x-python",
   "name": "python",
   "nbconvert_exporter": "python",
   "pygments_lexer": "ipython3",
   "version": "3.8.7"
  }
 },
 "nbformat": 4,
 "nbformat_minor": 5
}
