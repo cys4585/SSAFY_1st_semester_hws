{
 "cells": [
  {
   "cell_type": "markdown",
   "id": "fresh-absence",
   "metadata": {},
   "source": [
    "### 1. 숫자의 의미\n",
    "정수로 이루어진 list를 전달 받아, 각 정수에 대응되는 아스키 문자를 이어붙인 문자열을 반환하는 get_secret_word 함수를 작성하시오. 단, list는 65이상 90이하 그리고 97이상 122이하의 정수로만 구성되어 있다."
   ]
  },
  {
   "cell_type": "code",
   "execution_count": 2,
   "id": "intensive-arthritis",
   "metadata": {},
   "outputs": [],
   "source": [
    "def get_secret_word(numbers):\n",
    "    result = ''\n",
    "    for n in numbers:\n",
    "        result += chr(n)\n",
    "    return result"
   ]
  },
  {
   "cell_type": "code",
   "execution_count": 3,
   "id": "buried-ownership",
   "metadata": {},
   "outputs": [
    {
     "data": {
      "text/plain": [
       "'SsAfY'"
      ]
     },
     "execution_count": 3,
     "metadata": {},
     "output_type": "execute_result"
    }
   ],
   "source": [
    "get_secret_word([83, 115, 65, 102, 89])"
   ]
  },
  {
   "cell_type": "markdown",
   "id": "speaking-worship",
   "metadata": {},
   "source": [
    "### 2. 내 이름은 몇일까?\n",
    "문자열을 전달 받아 해당 문자열의 각 문자에 대응되는 아스키 숫자들의 합을 반환하는 get_secret_number 함수를 작성하시오. 단, 문자열은 A~Z, a~z로만 구성되어 있다."
   ]
  },
  {
   "cell_type": "code",
   "execution_count": 4,
   "id": "alive-netherlands",
   "metadata": {},
   "outputs": [],
   "source": [
    "def get_secret_number(name):\n",
    "    result = 0\n",
    "    for c in name:\n",
    "        result += ord(c)\n",
    "    return result"
   ]
  },
  {
   "cell_type": "code",
   "execution_count": 5,
   "id": "wired-kennedy",
   "metadata": {},
   "outputs": [
    {
     "data": {
      "text/plain": [
       "336"
      ]
     },
     "execution_count": 5,
     "metadata": {},
     "output_type": "execute_result"
    }
   ],
   "source": [
    "get_secret_number('tom')"
   ]
  },
  {
   "cell_type": "markdown",
   "id": "particular-flight",
   "metadata": {},
   "source": [
    "### 3. 강한 이름\n",
    "문자열 2개를 전달 받아 두 만자열의 각 문자에 대응되는 아스키 숫자들의 합을 비교하여 더 큰 합을 가진 문자열을 반환하는 get_strong-word 함수를 작성하시오."
   ]
  },
  {
   "cell_type": "code",
   "execution_count": 6,
   "id": "cutting-marketplace",
   "metadata": {},
   "outputs": [],
   "source": [
    "def get_strong_word(str1, str2):\n",
    "    result1 = 0\n",
    "    result2 = 0\n",
    "    for c in str1:\n",
    "        result1 += ord(c)\n",
    "    for c in str2:\n",
    "        result2 += ord(c)\n",
    "    if result1 > result2:\n",
    "        return str1\n",
    "    else:\n",
    "        return str2"
   ]
  },
  {
   "cell_type": "code",
   "execution_count": 7,
   "id": "filled-strength",
   "metadata": {},
   "outputs": [
    {
     "name": "stdout",
     "output_type": "stream",
     "text": [
      "z\n",
      "john\n"
     ]
    }
   ],
   "source": [
    "print(get_strong_word('z', 'a'))\n",
    "print(get_strong_word('tom', 'john'))"
   ]
  }
 ],
 "metadata": {
  "kernelspec": {
   "display_name": "Python 3",
   "language": "python",
   "name": "python3"
  },
  "language_info": {
   "codemirror_mode": {
    "name": "ipython",
    "version": 3
   },
   "file_extension": ".py",
   "mimetype": "text/x-python",
   "name": "python",
   "nbconvert_exporter": "python",
   "pygments_lexer": "ipython3",
   "version": "3.8.7"
  }
 },
 "nbformat": 4,
 "nbformat_minor": 5
}
