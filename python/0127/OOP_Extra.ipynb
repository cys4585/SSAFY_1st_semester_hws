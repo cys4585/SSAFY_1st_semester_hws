{
 "cells": [
  {
   "cell_type": "code",
   "execution_count": 1,
   "id": "furnished-burst",
   "metadata": {},
   "outputs": [
    {
     "name": "stdout",
     "output_type": "stream",
     "text": [
      "<class 'int'>\n"
     ]
    }
   ],
   "source": [
    "num = 3\n",
    "print(type(num))"
   ]
  },
  {
   "cell_type": "code",
   "execution_count": 2,
   "id": "automated-whale",
   "metadata": {},
   "outputs": [
    {
     "data": {
      "text/plain": [
       "[2, 2, 3, 4]"
      ]
     },
     "execution_count": 2,
     "metadata": {},
     "output_type": "execute_result"
    }
   ],
   "source": [
    "numbers = [1,2,3,4]\n",
    "b = numbers\n",
    "b[0] = 2\n",
    "numbers"
   ]
  },
  {
   "cell_type": "code",
   "execution_count": 3,
   "id": "front-chester",
   "metadata": {},
   "outputs": [
    {
     "data": {
      "text/plain": [
       "[2, 2, 3, 4]"
      ]
     },
     "execution_count": 3,
     "metadata": {},
     "output_type": "execute_result"
    }
   ],
   "source": [
    "b = list(numbers)\n",
    "b[1] = 3\n",
    "numbers"
   ]
  },
  {
   "cell_type": "code",
   "execution_count": 6,
   "id": "geological-issue",
   "metadata": {},
   "outputs": [
    {
     "data": {
      "text/plain": [
       "True"
      ]
     },
     "execution_count": 6,
     "metadata": {},
     "output_type": "execute_result"
    }
   ],
   "source": [
    "isinstance(b, list) # b가 list의 인스턴스이냐?"
   ]
  },
  {
   "cell_type": "code",
   "execution_count": 9,
   "id": "cheap-austin",
   "metadata": {},
   "outputs": [],
   "source": [
    "class Person:\n",
    "    age = 0\n",
    "    name = 'Unknown'\n",
    "    job = 'baby'\n",
    "    population = 0\n",
    "    \n",
    "    def __init__(self):\n",
    "        # self.name self.age self.job\n",
    "        # 모두 인스턴스 변수 namespace에서 먼저 변수를 찾고,\n",
    "        # 없으면 클래스 변수 namespace에서 변수를 찾고,\n",
    "        # 없으면 에러가 발생한다.\n",
    "        print(f'{self.name}({self.age}, {self.job})')\n",
    "        Person.birth()\n",
    "        \n",
    "    def introduce(self):\n",
    "        print(f'저는 {self.name}, {self.age}살 입니다.')\n",
    "        \n",
    "    def grow(self, year=1):\n",
    "        self.age += 1\n",
    "        print(f'{self.name}은 {year}년이 지나 {self.age}살이 되었습니다.')\n",
    "        \n",
    "    @classmethod\n",
    "    def birth(cls):\n",
    "        cls.population += 1"
   ]
  },
  {
   "cell_type": "code",
   "execution_count": 22,
   "id": "elegant-corps",
   "metadata": {},
   "outputs": [
    {
     "name": "stdout",
     "output_type": "stream",
     "text": [
      "Unknown(0, baby)\n"
     ]
    }
   ],
   "source": [
    "kim = Person()"
   ]
  },
  {
   "cell_type": "code",
   "execution_count": 23,
   "id": "dietary-surprise",
   "metadata": {},
   "outputs": [
    {
     "name": "stdout",
     "output_type": "stream",
     "text": [
      "Unknown(0, baby)\n",
      "Unknown\n",
      "kim\n"
     ]
    }
   ],
   "source": [
    "kim = Person()   # 인스턴스 생성 \n",
    "\n",
    "print(kim.name)  # 아직 인스턴스 변수를 만들어주지 않았기 때문에 클래스 변수인 name에 저장되어 있는 'Unknown'이 리턴됨\n",
    "\n",
    "kim.name = 'kim' # kim 인스턴스에 대한 인스턴스 변수 self.name에 'kim'을 저장\n",
    "\n",
    "print(kim.name)  # 인스턴스 변수 self.name을 만들어 주었기 때문에 인스턴스 변수가에 저장된 'kim'이 리턴됨\n"
   ]
  },
  {
   "cell_type": "code",
   "execution_count": 15,
   "id": "addressed-barbados",
   "metadata": {},
   "outputs": [
    {
     "data": {
      "text/plain": [
       "'Unknown'"
      ]
     },
     "execution_count": 15,
     "metadata": {},
     "output_type": "execute_result"
    }
   ],
   "source": [
    "Person.name"
   ]
  }
 ],
 "metadata": {
  "kernelspec": {
   "display_name": "Python 3",
   "language": "python",
   "name": "python3"
  },
  "language_info": {
   "codemirror_mode": {
    "name": "ipython",
    "version": 3
   },
   "file_extension": ".py",
   "mimetype": "text/x-python",
   "name": "python",
   "nbconvert_exporter": "python",
   "pygments_lexer": "ipython3",
   "version": "3.8.7"
  }
 },
 "nbformat": 4,
 "nbformat_minor": 5
}
