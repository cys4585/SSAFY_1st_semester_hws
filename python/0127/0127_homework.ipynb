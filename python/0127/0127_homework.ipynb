{
 "cells": [
  {
   "cell_type": "markdown",
   "id": "directed-franklin",
   "metadata": {},
   "source": [
    "### 1. Type Class\n",
    "Python은 객체 지향 프로그래밍 언어이다. Python에서 기본적으로 정의되어 있는 클래스를 최소 5가지 이상 작성하시오."
   ]
  },
  {
   "cell_type": "code",
   "execution_count": 11,
   "id": "nervous-facial",
   "metadata": {},
   "outputs": [
    {
     "data": {
      "text/plain": [
       "(int, bool, str, float, list)"
      ]
     },
     "execution_count": 11,
     "metadata": {},
     "output_type": "execute_result"
    }
   ],
   "source": [
    "int, bool, str, float, list, dict, map"
   ]
  },
  {
   "cell_type": "markdown",
   "id": "dental-boston",
   "metadata": {},
   "source": [
    "### 2. Magic Method\n",
    "아래에 제시된 매직 메서드들이 각각 어떠한 역할을 하는지 간단하게 작성하시오."
   ]
  },
  {
   "cell_type": "markdown",
   "id": "circular-scenario",
   "metadata": {},
   "source": [
    "- __init__ -> 생성자 : 인스턴스가 생성될 때 실행되는 메소드\n",
    "- __del__ -> 소멸자 : 인스턴스가 소멸될 때 실행되는 메소드\n",
    "- __str__ -> 서로 다른 자료형 간 인터페이스를 제공 : 인스턴스를 print() 할 때 실행되는 메소드\n",
    "- __repr__ -> 객체에 대한 정보를(인간이 이해하기 쉽게) 표현 : 인스턴스 자체가 반환할 값"
   ]
  },
  {
   "cell_type": "markdown",
   "id": "advised-uncertainty",
   "metadata": {},
   "source": [
    "### 3. Instance Method\n",
    ".sort()와 같이 문자열, 리스트, 딕셔너리 등을 조작할 때 사용하였던 것들은 클래스에 정의된 메서드들이었다. 이처럼 문자열, 리스트, 딕셔너리 등을 조작하는 메서드를 최소 3가지 이상 그 역할과 함께 작성하시오."
   ]
  },
  {
   "cell_type": "markdown",
   "id": "limited-handling",
   "metadata": {},
   "source": [
    "- .replace(a, b) : 문자열 중에서 문자 a를 b로 바꾼다\n",
    "- .append(a) : 리스트에 a를 추가한다\n",
    "- .get(a) : 딕셔너리에서 a key를 찾아 해당하는 value를 반환한다"
   ]
  },
  {
   "cell_type": "markdown",
   "id": "labeled-productivity",
   "metadata": {},
   "source": [
    "```python\n",
    "str.upper() => 문자열을 대문자로 변환\n",
    "list.append() => 리스트의 맨 마지막에 요소를 하나 추가\n",
    "dict.get() => key에 해당하는 val 반환\n",
    "```"
   ]
  },
  {
   "cell_type": "markdown",
   "id": "honey-suspect",
   "metadata": {},
   "source": [
    "### 4. Module Import\n",
    "아래와 같은 코드가 같은 폴더 안의 fibo.py 파일에 작성되어 있을 때, 아래와 같은 형태로 함수를 실행할 수 있도록 하는 import 문을 빈칸 (a), (b), (c)를 채워 넣어 완성하시오."
   ]
  },
  {
   "cell_type": "code",
   "execution_count": 12,
   "id": "veterinary-stewart",
   "metadata": {},
   "outputs": [],
   "source": [
    "# fibo.py\n",
    "def fibo_recursion(n):\n",
    "    if n < 2:\n",
    "        return n\n",
    "    else:\n",
    "        return fibo_recursion(n-1) + fibo_recursion(n-2)"
   ]
  },
  {
   "cell_type": "code",
   "execution_count": 18,
   "id": "distant-warning",
   "metadata": {},
   "outputs": [
    {
     "data": {
      "text/plain": [
       "3"
      ]
     },
     "execution_count": 18,
     "metadata": {},
     "output_type": "execute_result"
    }
   ],
   "source": [
    "from fibo import fibo_recursion as recursion\n",
    "\n",
    "recursion(4)"
   ]
  }
 ],
 "metadata": {
  "kernelspec": {
   "display_name": "Python 3",
   "language": "python",
   "name": "python3"
  },
  "language_info": {
   "codemirror_mode": {
    "name": "ipython",
    "version": 3
   },
   "file_extension": ".py",
   "mimetype": "text/x-python",
   "name": "python",
   "nbconvert_exporter": "python",
   "pygments_lexer": "ipython3",
   "version": "3.8.7"
  }
 },
 "nbformat": 4,
 "nbformat_minor": 5
}
