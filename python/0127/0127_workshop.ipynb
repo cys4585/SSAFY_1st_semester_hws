{
 "cells": [
  {
   "cell_type": "markdown",
   "id": "brief-wholesale",
   "metadata": {},
   "source": [
    "Faker는 개발시 활용할 수 있는 가상의 데이터를 생성해주는 파이썬 패키지이다. 워크샵에 등장하는 코드는 모두 Github 문서의 예제이다. 지금까지 배운 파이썬 개념을 활용하여 해석 하시오."
   ]
  },
  {
   "cell_type": "markdown",
   "id": "comic-hamilton",
   "metadata": {},
   "source": [
    "### 1. pip\n",
    "아래 명령어는 (1) 무엇을 위한 명령인지 (2) 실행은 어디에서 해야하는지 작성하시오.\n",
    "- $ pip install faker"
   ]
  },
  {
   "cell_type": "code",
   "execution_count": 2,
   "id": "humanitarian-bleeding",
   "metadata": {},
   "outputs": [
    {
     "name": "stdout",
     "output_type": "stream",
     "text": [
      "Collecting faker\n",
      "  Downloading Faker-5.8.0-py3-none-any.whl (1.1 MB)\n",
      "Requirement already satisfied: python-dateutil>=2.4 in c:\\users\\user\\appdata\\local\\programs\\python\\python38\\lib\\site-packages (from faker) (2.8.1)\n",
      "Collecting text-unidecode==1.3\n",
      "  Downloading text_unidecode-1.3-py2.py3-none-any.whl (78 kB)\n",
      "Requirement already satisfied: six>=1.5 in c:\\users\\user\\appdata\\roaming\\python\\python38\\site-packages (from python-dateutil>=2.4->faker) (1.15.0)\n",
      "Installing collected packages: text-unidecode, faker\n",
      "Successfully installed faker-5.8.0 text-unidecode-1.3\n"
     ]
    },
    {
     "name": "stderr",
     "output_type": "stream",
     "text": [
      "WARNING: You are using pip version 20.2.3; however, version 21.0 is available.\n",
      "You should consider upgrading via the 'c:\\users\\user\\appdata\\local\\programs\\python\\python38\\python.exe -m pip install --upgrade pip' command.\n"
     ]
    }
   ],
   "source": [
    "!pip install faker"
   ]
  },
  {
   "cell_type": "markdown",
   "id": "pending-framework",
   "metadata": {},
   "source": [
    "- (1) PyPI에 저장된 외부 패키지인 faker를 설치하기 위한 명령\n",
    "- (2) 명령 프롬프트에서 실행을 한다. (bash, cmd, power shell ...)"
   ]
  },
  {
   "cell_type": "markdown",
   "id": "statewide-recording",
   "metadata": {},
   "source": [
    "### 2. Basic Usages\n",
    "Faker는 다양한 메서드를 통해 임의의 결과값을 반환해준다. 임의의 영문 이름을 반환하는 아래 코드에서 라인별 의미를 주석을 참고하여 작성하시오."
   ]
  },
  {
   "cell_type": "code",
   "execution_count": 11,
   "id": "compact-citizenship",
   "metadata": {},
   "outputs": [
    {
     "data": {
      "text/plain": [
       "'Thomas Thornton'"
      ]
     },
     "execution_count": 11,
     "metadata": {},
     "output_type": "execute_result"
    }
   ],
   "source": [
    "from faker import Faker # faker 패키지로부터 Faker 클래스를 가져오기 위한 코드이다.\n",
    "fake = Faker()          # Faker는 클래스, fake는 인스턴스이다.\n",
    "fake.name()             # name()은 fake의 인스턴스 메서드이다."
   ]
  },
  {
   "cell_type": "markdown",
   "id": "naked-muslim",
   "metadata": {},
   "source": [
    "### 3. Localization\n",
    "Faker는 다양한 언어의 Locale을 지원한다."
   ]
  },
  {
   "cell_type": "markdown",
   "id": "rental-clerk",
   "metadata": {},
   "source": [
    "1. 인자 없이 호출 시에는 영문이 기본 설정이다. (en_US)\n",
    "```python\n",
    "fake = Faker()\n",
    "fake.name()\n",
    "# => random english name \n",
    "```"
   ]
  },
  {
   "cell_type": "markdown",
   "id": "confused-publication",
   "metadata": {},
   "source": [
    "2. Locale 정보를 포함하여 호출 시에는 해당 언어 설정을 따른다.\n",
    "```python\n",
    "fake_ko = Faker('ko_KR')\n",
    "fake_ko.name()\n",
    "# => 랜덤 한국 이름\n",
    "```"
   ]
  },
  {
   "cell_type": "markdown",
   "id": "closed-network",
   "metadata": {},
   "source": [
    "직접 해당하는 기능을 구현한다고 하였을 때, (a), (b), (c)에 들어갈 코드로 적절한 것을 작성하시오. (힌트: 생성자 메서드와 함수의 개념)"
   ]
  },
  {
   "cell_type": "markdown",
   "id": "directed-sociology",
   "metadata": {},
   "source": [
    "```python\n",
    "class Faker():\n",
    "    \n",
    "    def __init__(self, locale='en_US'):\n",
    "        pass\n",
    "```"
   ]
  },
  {
   "cell_type": "markdown",
   "id": "overall-airfare",
   "metadata": {},
   "source": [
    "### 4.  Seeding the Generator\n",
    "컴퓨터 프로그래밍에서 임의의 값을 반환하는 경우(난수 생성 등) 시드라는 개념이 있다. 시드를 설정하게 되면 동일한 순서로 난수를 발생시킬 수 있어 일반적으로 디버깅을 위하여 활용된다."
   ]
  },
  {
   "cell_type": "code",
   "execution_count": 120,
   "id": "introductory-editing",
   "metadata": {},
   "outputs": [
    {
     "name": "stdout",
     "output_type": "stream",
     "text": [
      "0.5311536664127009\n",
      "0.4667923330546314\n",
      "\n",
      "0.8170477907294282\n",
      "0.8170477907294282\n"
     ]
    }
   ],
   "source": [
    "import random\n",
    "\n",
    "print(random.random())\n",
    "print(random.random())\n",
    "\n",
    "print()\n",
    "\n",
    "random.seed(7777)\n",
    "print(random.random())\n",
    "\n",
    "random.seed(7777)\n",
    "print(random.random())"
   ]
  },
  {
   "cell_type": "markdown",
   "id": "disabled-henry",
   "metadata": {},
   "source": [
    "아래의 코드를 실행했을 때, #1과 #2에서 출력되는 결과를 각각 작성하고, seed()는 어떤 종류의 메서드인지 작성하시오."
   ]
  },
  {
   "cell_type": "code",
   "execution_count": 136,
   "id": "functional-timer",
   "metadata": {},
   "outputs": [
    {
     "name": "stdout",
     "output_type": "stream",
     "text": [
      "이도윤\n",
      "이지후\n",
      "김광수\n"
     ]
    }
   ],
   "source": [
    "Faker.seed(4321)\n",
    "\n",
    "fake = Faker('ko_KR')\n",
    "print(fake.name())      # 이도윤\n",
    "\n",
    "fake2 = Faker('ko_KR')  # 이지후\n",
    "print(fake2.name())\n",
    "\n",
    "fake3 = Faker('ko_KR')\n",
    "print(fake3.name())\n",
    "\n",
    "# seed() -> 클래스 메소드"
   ]
  },
  {
   "cell_type": "markdown",
   "id": "liquid-committee",
   "metadata": {},
   "source": [
    "### 4. Seeding the Generator\n",
    "아래의 코드를 실행했을 때, #1과 #2에서 출력되는 결과를 각각 작성하고, seed_instance()는 어떤 종류의 메서드인지 작성하시오."
   ]
  },
  {
   "cell_type": "code",
   "execution_count": 72,
   "id": "satellite-asbestos",
   "metadata": {},
   "outputs": [
    {
     "name": "stdout",
     "output_type": "stream",
     "text": [
      "이도윤\n",
      "김예준\n"
     ]
    }
   ],
   "source": [
    "fake = Faker('ko_KR')\n",
    "fake.seed_instance(4321)\n",
    "\n",
    "print(fake.name())       # 1 이도윤\n",
    "\n",
    "fake2 = Faker('ko_KR')\n",
    "print(fake2.name())      # 2 랜덤 이름 출력\n",
    "\n",
    "# seed_instance() -> 인스턴스 메소드"
   ]
  },
  {
   "cell_type": "markdown",
   "id": "accompanied-mongolia",
   "metadata": {},
   "source": [
    "seed()와 seed_instance()는 각각 어떤 용도로 사용되는가?\n",
    "- seed() : 출력되는 값이 일정해야할 때\n",
    "- seed_instance() : 특정 인스턴스만 일정한 값이 출력되고, 나머지 객체들은 랜덤 값이 출력되어야 할 때"
   ]
  }
 ],
 "metadata": {
  "kernelspec": {
   "display_name": "Python 3",
   "language": "python",
   "name": "python3"
  },
  "language_info": {
   "codemirror_mode": {
    "name": "ipython",
    "version": 3
   },
   "file_extension": ".py",
   "mimetype": "text/x-python",
   "name": "python",
   "nbconvert_exporter": "python",
   "pygments_lexer": "ipython3",
   "version": "3.8.7"
  }
 },
 "nbformat": 4,
 "nbformat_minor": 5
}
